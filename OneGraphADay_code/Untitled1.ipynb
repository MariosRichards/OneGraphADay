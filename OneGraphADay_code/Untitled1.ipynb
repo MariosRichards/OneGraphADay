{
 "cells": [
  {
   "cell_type": "code",
   "execution_count": 1,
   "metadata": {},
   "outputs": [],
   "source": [
    "library(devtools)\n",
    "options(download.file.method = \"wininet\")"
   ]
  },
  {
   "cell_type": "code",
   "execution_count": 8,
   "metadata": {},
   "outputs": [
    {
     "ename": "ERROR",
     "evalue": "Error: Can't find 'C:\\Users\\Marios\\Desktop\\OneGraphADay\\OneGraphADay_code\\gamlss'.\n",
     "output_type": "error",
     "traceback": [
      "Error: Can't find 'C:\\Users\\Marios\\Desktop\\OneGraphADay\\OneGraphADay_code\\gamlss'.\nTraceback:\n",
      "1. devtools::build(\"gamlss\")",
      "2. as.package(pkg)",
      "3. package_file(path = x)",
      "4. stop(\"Can't find '\", path, \"'.\", call. = FALSE)"
     ]
    }
   ],
   "source": [
    "# devtools::install(\"gamlss\", repos=\"http://R-Forge.R-project.org\")\n",
    "devtools::build(\"gamlss\")\n"
   ]
  },
  {
   "cell_type": "code",
   "execution_count": 10,
   "metadata": {},
   "outputs": [
    {
     "data": {
      "text/html": [
       "<dl>\n",
       "\t<dt>$platform</dt>\n",
       "\t\t<dd>'x86_64-w64-mingw32'</dd>\n",
       "\t<dt>$arch</dt>\n",
       "\t\t<dd>'x86_64'</dd>\n",
       "\t<dt>$os</dt>\n",
       "\t\t<dd>'mingw32'</dd>\n",
       "\t<dt>$system</dt>\n",
       "\t\t<dd>'x86_64, mingw32'</dd>\n",
       "\t<dt>$status</dt>\n",
       "\t\t<dd>''</dd>\n",
       "\t<dt>$major</dt>\n",
       "\t\t<dd>'3'</dd>\n",
       "\t<dt>$minor</dt>\n",
       "\t\t<dd>'3.2'</dd>\n",
       "\t<dt>$year</dt>\n",
       "\t\t<dd>'2016'</dd>\n",
       "\t<dt>$month</dt>\n",
       "\t\t<dd>'10'</dd>\n",
       "\t<dt>$day</dt>\n",
       "\t\t<dd>'31'</dd>\n",
       "\t<dt>$`svn rev`</dt>\n",
       "\t\t<dd>'71607'</dd>\n",
       "\t<dt>$language</dt>\n",
       "\t\t<dd>'R'</dd>\n",
       "\t<dt>$version.string</dt>\n",
       "\t\t<dd>'R version 3.3.2 (2016-10-31)'</dd>\n",
       "\t<dt>$nickname</dt>\n",
       "\t\t<dd>'Sincere Pumpkin Patch'</dd>\n",
       "</dl>\n"
      ],
      "text/latex": [
       "\\begin{description}\n",
       "\\item[\\$platform] 'x86\\_64-w64-mingw32'\n",
       "\\item[\\$arch] 'x86\\_64'\n",
       "\\item[\\$os] 'mingw32'\n",
       "\\item[\\$system] 'x86\\_64, mingw32'\n",
       "\\item[\\$status] ''\n",
       "\\item[\\$major] '3'\n",
       "\\item[\\$minor] '3.2'\n",
       "\\item[\\$year] '2016'\n",
       "\\item[\\$month] '10'\n",
       "\\item[\\$day] '31'\n",
       "\\item[\\$`svn rev`] '71607'\n",
       "\\item[\\$language] 'R'\n",
       "\\item[\\$version.string] 'R version 3.3.2 (2016-10-31)'\n",
       "\\item[\\$nickname] 'Sincere Pumpkin Patch'\n",
       "\\end{description}\n"
      ],
      "text/markdown": [
       "$platform\n",
       ":   'x86_64-w64-mingw32'\n",
       "$arch\n",
       ":   'x86_64'\n",
       "$os\n",
       ":   'mingw32'\n",
       "$system\n",
       ":   'x86_64, mingw32'\n",
       "$status\n",
       ":   ''\n",
       "$major\n",
       ":   '3'\n",
       "$minor\n",
       ":   '3.2'\n",
       "$year\n",
       ":   '2016'\n",
       "$month\n",
       ":   '10'\n",
       "$day\n",
       ":   '31'\n",
       "$`svn rev`\n",
       ":   '71607'\n",
       "$language\n",
       ":   'R'\n",
       "$version.string\n",
       ":   'R version 3.3.2 (2016-10-31)'\n",
       "$nickname\n",
       ":   'Sincere Pumpkin Patch'\n",
       "\n",
       "\n"
      ],
      "text/plain": [
       "$platform\n",
       "[1] \"x86_64-w64-mingw32\"\n",
       "\n",
       "$arch\n",
       "[1] \"x86_64\"\n",
       "\n",
       "$os\n",
       "[1] \"mingw32\"\n",
       "\n",
       "$system\n",
       "[1] \"x86_64, mingw32\"\n",
       "\n",
       "$status\n",
       "[1] \"\"\n",
       "\n",
       "$major\n",
       "[1] \"3\"\n",
       "\n",
       "$minor\n",
       "[1] \"3.2\"\n",
       "\n",
       "$year\n",
       "[1] \"2016\"\n",
       "\n",
       "$month\n",
       "[1] \"10\"\n",
       "\n",
       "$day\n",
       "[1] \"31\"\n",
       "\n",
       "$`svn rev`\n",
       "[1] \"71607\"\n",
       "\n",
       "$language\n",
       "[1] \"R\"\n",
       "\n",
       "$version.string\n",
       "[1] \"R version 3.3.2 (2016-10-31)\"\n",
       "\n",
       "$nickname\n",
       "[1] \"Sincere Pumpkin Patch\"\n"
      ]
     },
     "metadata": {},
     "output_type": "display_data"
    }
   ],
   "source": [
    "R.Version()"
   ]
  },
  {
   "cell_type": "code",
   "execution_count": null,
   "metadata": {
    "collapsed": true
   },
   "outputs": [],
   "source": []
  },
  {
   "cell_type": "code",
   "execution_count": null,
   "metadata": {
    "collapsed": true
   },
   "outputs": [],
   "source": [
    "install.packages(\"gamlss\", repos=\"http://R-Forge.R-project.org\")"
   ]
  }
 ],
 "metadata": {
  "kernelspec": {
   "display_name": "R [conda env:OneGraphADay]",
   "language": "R",
   "name": "conda-env-OneGraphADay-r"
  },
  "language_info": {
   "codemirror_mode": "r",
   "file_extension": ".r",
   "mimetype": "text/x-r-source",
   "name": "R",
   "pygments_lexer": "r",
   "version": "3.3.2"
  }
 },
 "nbformat": 4,
 "nbformat_minor": 2
}
