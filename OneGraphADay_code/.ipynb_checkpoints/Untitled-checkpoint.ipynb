{
 "cells": [
  {
   "cell_type": "code",
   "execution_count": 1,
   "metadata": {
    "collapsed": true
   },
   "outputs": [],
   "source": [
    "library(devtools)"
   ]
  },
  {
   "cell_type": "code",
   "execution_count": 2,
   "metadata": {
    "collapsed": true
   },
   "outputs": [],
   "source": [
    "options(download.file.method = \"wininet\")"
   ]
  },
  {
   "cell_type": "code",
   "execution_count": 3,
   "metadata": {},
   "outputs": [
    {
     "name": "stderr",
     "output_type": "stream",
     "text": [
      "Skipping install of 'gganimate' from a github remote, the SHA1 (bf820020) has not changed since last install.\n",
      "  Use `force = TRUE` to force installation\n"
     ]
    }
   ],
   "source": [
    "devtools::install_github(\"dgrtwo/gganimate\")"
   ]
  },
  {
   "cell_type": "code",
   "execution_count": 4,
   "metadata": {},
   "outputs": [
    {
     "name": "stderr",
     "output_type": "stream",
     "text": [
      "Loading tidyverse: ggplot2\n",
      "Loading tidyverse: tibble\n",
      "Loading tidyverse: tidyr\n",
      "Loading tidyverse: readr\n",
      "Loading tidyverse: purrr\n",
      "Loading tidyverse: dplyr\n",
      "Warning message:\n",
      "\"package 'ggplot2' was built under R version 3.3.3\"Conflicts with tidy packages ---------------------------------------------------\n",
      "filter(): dplyr, stats\n",
      "lag():    dplyr, stats\n"
     ]
    }
   ],
   "source": [
    "library(tidyverse)\n",
    "library(gganimate)"
   ]
  },
  {
   "cell_type": "code",
   "execution_count": 29,
   "metadata": {
    "collapsed": true
   },
   "outputs": [],
   "source": [
    "NUMPLAYERS = 100\n",
    "ROUNDS = 50001\n",
    "INITWEALTH = 100\n",
    "\n",
    "#initialize the bank\n",
    "#columns wealths of the NUMPLAYERS players\n",
    "#rows show wealths of each of the ROUNDS ticks of the clocks\n",
    "bank = matrix(0, nrow = ROUNDS, ncol = NUMPLAYERS)\n",
    "bank[1,] =  c(rep(INITWEALTH, NUMPLAYERS))\n",
    "\n",
    "#function to give a dollar to someone other than oneself\n",
    "get_recipient = function(player) {\n",
    "  sample(setdiff(1:NUMPLAYERS, player), 1)}"
   ]
  },
  {
   "cell_type": "code",
   "execution_count": 30,
   "metadata": {
    "collapsed": true
   },
   "outputs": [],
   "source": [
    "# takes ~20s\n",
    "#execute trades and update the ledger\n",
    "for (i in 2:ROUNDS) {\n",
    "  #every player with wealth chooses another person to receive a buck\n",
    "  recipients = sapply(which(bank[i - 1,] > 0), get_recipient)\n",
    "\n",
    "  #table of the dollars owed each person\n",
    "  count_table = table(recipients)\n",
    "  \n",
    "  #get the indices of the people owed money\n",
    "  indices = as.integer(names(count_table))\n",
    "  \n",
    "  #everyone gives up a dollar, unless they are at zero\n",
    "  bank[i,] = ifelse(bank[i - 1,] > 0, bank[i - 1,] - 1, bank[i - 1,])\n",
    "  \n",
    "  #selected people receive dollars\n",
    "  bank[i, indices] = bank[i, indices] + count_table\n",
    "}"
   ]
  },
  {
   "cell_type": "code",
   "execution_count": null,
   "metadata": {},
   "outputs": [],
   "source": []
  },
  {
   "cell_type": "code",
   "execution_count": 32,
   "metadata": {
    "collapsed": true
   },
   "outputs": [],
   "source": [
    "####################Animate it\n",
    "#Make a suitable long data frame\n",
    "df = as.data.frame(bank)\n",
    "names(df) = 1:NUMPLAYERS\n",
    "df = df %>%\n",
    "  mutate(frame = 1:ROUNDS) %>%\n",
    "  gather(person, wealth, 1:NUMPLAYERS) %>%\n",
    "  mutate(person = as.numeric(person)) %>%\n",
    "  arrange(frame) %>%\n",
    "  group_by(frame) %>%\n",
    "  mutate(rank = rank(wealth, ties.method = \"random\")) %>%\n",
    "  ungroup() %>%\n",
    "  gather(histtype,playerid,c(person,rank)) %>%\n",
    "  mutate(histtype = sprintf(\"Ordered by %s\", histtype))"
   ]
  },
  {
   "cell_type": "code",
   "execution_count": null,
   "metadata": {},
   "outputs": [],
   "source": [
    "# seq(1,ROUNDS,100)\n",
    "# short_df = df[df['frame'] %in% seq(1,ROUNDS,100),]"
   ]
  },
  {
   "cell_type": "code",
   "execution_count": null,
   "metadata": {},
   "outputs": [],
   "source": [
    "p <- ggplot(df[df['frame'] %in% seq(1,ROUNDS,100),], aes(x = playerid, y = wealth, frame = frame, fill=histtype)) +\n",
    "  theme_minimal() +\n",
    "  theme(panel.grid.major.x = element_blank(),\n",
    "        panel.grid.minor = element_blank()) +\n",
    "  geom_rect(aes( xmin = playerid - .4, xmax = playerid +.4, ymin = 0, ymax = wealth)) +\n",
    "  scale_x_continuous(breaks = 1:NUMPLAYERS) +\n",
    "  coord_cartesian(xlim = c(0, NUMPLAYERS), y = c(0, 5 * INITWEALTH)) +\n",
    "  theme(axis.text.x = element_text(angle = 90, hjust = 1)) +\n",
    "  labs(x='players',y='dollars') +\n",
    "  facet_wrap( ~ histtype,ncol=1) +\n",
    "  theme(legend.position = \"none\")\n",
    "p"
   ]
  },
  {
   "cell_type": "code",
   "execution_count": null,
   "metadata": {
    "collapsed": true
   },
   "outputs": [],
   "source": [
    "#set options for the animation package. Need ImageMagick installed on your computer\n",
    "animation::ani.options(nmax = ROUNDS,\n",
    "                       convert = 'C:\\\\Program Files\\\\ImageMagick-6.6.7-Q16')"
   ]
  },
  {
   "cell_type": "code",
   "execution_count": null,
   "metadata": {
    "collapsed": true
   },
   "outputs": [],
   "source": [
    "# taking a long time!\n",
    "# ~40 mins\n",
    "#save the movie\n",
    "start.time <- Sys.time()\n",
    "gganimate(p, \"..\\\\dollar_stacked.mp4\", interval = .01)\n",
    "end.time <- Sys.time()\n",
    "time.taken <- end.time - start.time\n",
    "time.taken"
   ]
  },
  {
   "cell_type": "code",
   "execution_count": null,
   "metadata": {
    "collapsed": true
   },
   "outputs": [],
   "source": []
  }
 ],
 "metadata": {
  "kernelspec": {
   "display_name": "R [conda env:OneGraphADay]",
   "language": "R",
   "name": "conda-env-OneGraphADay-r"
  },
  "language_info": {
   "codemirror_mode": "r",
   "file_extension": ".r",
   "mimetype": "text/x-r-source",
   "name": "R",
   "pygments_lexer": "r",
   "version": "3.3.2"
  }
 },
 "nbformat": 4,
 "nbformat_minor": 2
}
